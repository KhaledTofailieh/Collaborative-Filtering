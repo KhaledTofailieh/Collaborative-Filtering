{
 "cells": [
  {
   "cell_type": "markdown",
   "metadata": {},
   "source": [
    "<h2><left>Hello, This Notebook Contains example for User-User Collaborative Filtering Algorithm </left></h2>\n",
    "<h4><left>- Collaborative filtering is kind of recommendation systems, used in different websites to make relations between users and items in site.</left></h4>\n",
    "<div class=\"alert alert-block alert-info\" style=\"margin-top: 20px\">\n",
    "        <ul>\n",
    "            <li><h4>Contents:</h4></li>\n",
    "    <ul>\n",
    "        <li><a href=\"#ref1\">Data Preparation</a></li>\n",
    "        <li><a href=\"#ref2\">Basic Statistics</a></li>\n",
    "        <li><a href=\"#ref3\">Implementation</a></li>\n",
    "        <ul>\n",
    "            <li><a href=\"#ref4\">BaseLine</a></li>\n",
    "            <li><a href=\"#ref5\">User-User Collaborative</a></li>\n",
    "            <li><a href=\"#ref6\">Results</a></li>\n",
    "        </ul>\n",
    "    </ul>\n",
    "    </ul>\n",
    "</div>\n",
    "<hr>\n"
   ]
  },
  {
   "cell_type": "markdown",
   "metadata": {},
   "source": [
    "<a id=\"ref1\"></a>\n",
    "<h3><center>Data Preparation</center></h3>\n",
    "\n",
    "----------"
   ]
  },
  {
   "cell_type": "code",
   "execution_count": 1,
   "metadata": {},
   "outputs": [],
   "source": [
    "import pandas as pd\n",
    "import numpy as np\n",
    "from scipy.sparse import csc_matrix\n",
    "import seaborn as sns\n",
    "import matplotlib.pyplot as plt\n",
    "%matplotlib inline"
   ]
  },
  {
   "cell_type": "code",
   "execution_count": 2,
   "metadata": {},
   "outputs": [],
   "source": [
    "DATA_PATH = '../Data/user_item_rating.csv'"
   ]
  },
  {
   "cell_type": "code",
   "execution_count": 3,
   "metadata": {},
   "outputs": [
    {
     "data": {
      "text/html": [
       "<div>\n",
       "<style scoped>\n",
       "    .dataframe tbody tr th:only-of-type {\n",
       "        vertical-align: middle;\n",
       "    }\n",
       "\n",
       "    .dataframe tbody tr th {\n",
       "        vertical-align: top;\n",
       "    }\n",
       "\n",
       "    .dataframe thead th {\n",
       "        text-align: right;\n",
       "    }\n",
       "</style>\n",
       "<table border=\"1\" class=\"dataframe\">\n",
       "  <thead>\n",
       "    <tr style=\"text-align: right;\">\n",
       "      <th></th>\n",
       "      <th>rating</th>\n",
       "      <th>user_id</th>\n",
       "      <th>book_id</th>\n",
       "    </tr>\n",
       "  </thead>\n",
       "  <tbody>\n",
       "    <tr>\n",
       "      <th>0</th>\n",
       "      <td>5</td>\n",
       "      <td>8842281e1d1347389f2ab93d60773d4d</td>\n",
       "      <td>18245960</td>\n",
       "    </tr>\n",
       "    <tr>\n",
       "      <th>1</th>\n",
       "      <td>3</td>\n",
       "      <td>8842281e1d1347389f2ab93d60773d4d</td>\n",
       "      <td>16981</td>\n",
       "    </tr>\n",
       "    <tr>\n",
       "      <th>2</th>\n",
       "      <td>3</td>\n",
       "      <td>8842281e1d1347389f2ab93d60773d4d</td>\n",
       "      <td>28684704</td>\n",
       "    </tr>\n",
       "    <tr>\n",
       "      <th>3</th>\n",
       "      <td>0</td>\n",
       "      <td>8842281e1d1347389f2ab93d60773d4d</td>\n",
       "      <td>27161156</td>\n",
       "    </tr>\n",
       "    <tr>\n",
       "      <th>4</th>\n",
       "      <td>4</td>\n",
       "      <td>8842281e1d1347389f2ab93d60773d4d</td>\n",
       "      <td>25884323</td>\n",
       "    </tr>\n",
       "    <tr>\n",
       "      <th>...</th>\n",
       "      <td>...</td>\n",
       "      <td>...</td>\n",
       "      <td>...</td>\n",
       "    </tr>\n",
       "    <tr>\n",
       "      <th>1378028</th>\n",
       "      <td>0</td>\n",
       "      <td>35cef391b171b4fca45771e508028212</td>\n",
       "      <td>15745950</td>\n",
       "    </tr>\n",
       "    <tr>\n",
       "      <th>1378029</th>\n",
       "      <td>0</td>\n",
       "      <td>35cef391b171b4fca45771e508028212</td>\n",
       "      <td>10861195</td>\n",
       "    </tr>\n",
       "    <tr>\n",
       "      <th>1378030</th>\n",
       "      <td>4</td>\n",
       "      <td>35cef391b171b4fca45771e508028212</td>\n",
       "      <td>6131164</td>\n",
       "    </tr>\n",
       "    <tr>\n",
       "      <th>1378031</th>\n",
       "      <td>4</td>\n",
       "      <td>35cef391b171b4fca45771e508028212</td>\n",
       "      <td>10025305</td>\n",
       "    </tr>\n",
       "    <tr>\n",
       "      <th>1378032</th>\n",
       "      <td>5</td>\n",
       "      <td>35cef391b171b4fca45771e508028212</td>\n",
       "      <td>6482837</td>\n",
       "    </tr>\n",
       "  </tbody>\n",
       "</table>\n",
       "<p>1378033 rows × 3 columns</p>\n",
       "</div>"
      ],
      "text/plain": [
       "         rating                           user_id   book_id\n",
       "0             5  8842281e1d1347389f2ab93d60773d4d  18245960\n",
       "1             3  8842281e1d1347389f2ab93d60773d4d     16981\n",
       "2             3  8842281e1d1347389f2ab93d60773d4d  28684704\n",
       "3             0  8842281e1d1347389f2ab93d60773d4d  27161156\n",
       "4             4  8842281e1d1347389f2ab93d60773d4d  25884323\n",
       "...         ...                               ...       ...\n",
       "1378028       0  35cef391b171b4fca45771e508028212  15745950\n",
       "1378029       0  35cef391b171b4fca45771e508028212  10861195\n",
       "1378030       4  35cef391b171b4fca45771e508028212   6131164\n",
       "1378031       4  35cef391b171b4fca45771e508028212  10025305\n",
       "1378032       5  35cef391b171b4fca45771e508028212   6482837\n",
       "\n",
       "[1378033 rows x 3 columns]"
      ]
     },
     "execution_count": 3,
     "metadata": {},
     "output_type": "execute_result"
    }
   ],
   "source": [
    "data = pd.read_csv(DATA_PATH)\n",
    "data_ = data[:1000]\n",
    "data"
   ]
  },
  {
   "cell_type": "code",
   "execution_count": 4,
   "metadata": {},
   "outputs": [
    {
     "name": "stdout",
     "output_type": "stream",
     "text": [
      "<class 'pandas.core.frame.DataFrame'>\n",
      "RangeIndex: 1378033 entries, 0 to 1378032\n",
      "Data columns (total 3 columns):\n",
      " #   Column   Non-Null Count    Dtype \n",
      "---  ------   --------------    ----- \n",
      " 0   rating   1378033 non-null  int64 \n",
      " 1   user_id  1378033 non-null  object\n",
      " 2   book_id  1378033 non-null  int64 \n",
      "dtypes: int64(2), object(1)\n",
      "memory usage: 31.5+ MB\n"
     ]
    }
   ],
   "source": [
    "data.info()"
   ]
  },
  {
   "cell_type": "code",
   "execution_count": 5,
   "metadata": {},
   "outputs": [],
   "source": [
    "def normalize_user_id(data):\n",
    "    user_id = {}\n",
    "    ids = data.user_id.unique()\n",
    "    for index,id_ in enumerate(ids):\n",
    "        user_id[id_]= index\n",
    "    return user_id  \n",
    "\n",
    "def get_normalized_user_id(item,user_id_dict):\n",
    "    return user_id_dict[item]"
   ]
  },
  {
   "cell_type": "code",
   "execution_count": 6,
   "metadata": {},
   "outputs": [
    {
     "data": {
      "text/html": [
       "<div>\n",
       "<style scoped>\n",
       "    .dataframe tbody tr th:only-of-type {\n",
       "        vertical-align: middle;\n",
       "    }\n",
       "\n",
       "    .dataframe tbody tr th {\n",
       "        vertical-align: top;\n",
       "    }\n",
       "\n",
       "    .dataframe thead th {\n",
       "        text-align: right;\n",
       "    }\n",
       "</style>\n",
       "<table border=\"1\" class=\"dataframe\">\n",
       "  <thead>\n",
       "    <tr style=\"text-align: right;\">\n",
       "      <th></th>\n",
       "      <th>rating</th>\n",
       "      <th>user_id</th>\n",
       "      <th>book_id</th>\n",
       "    </tr>\n",
       "  </thead>\n",
       "  <tbody>\n",
       "    <tr>\n",
       "      <th>0</th>\n",
       "      <td>5</td>\n",
       "      <td>0</td>\n",
       "      <td>18245960</td>\n",
       "    </tr>\n",
       "    <tr>\n",
       "      <th>1</th>\n",
       "      <td>3</td>\n",
       "      <td>0</td>\n",
       "      <td>16981</td>\n",
       "    </tr>\n",
       "    <tr>\n",
       "      <th>2</th>\n",
       "      <td>3</td>\n",
       "      <td>0</td>\n",
       "      <td>28684704</td>\n",
       "    </tr>\n",
       "    <tr>\n",
       "      <th>3</th>\n",
       "      <td>0</td>\n",
       "      <td>0</td>\n",
       "      <td>27161156</td>\n",
       "    </tr>\n",
       "    <tr>\n",
       "      <th>4</th>\n",
       "      <td>4</td>\n",
       "      <td>0</td>\n",
       "      <td>25884323</td>\n",
       "    </tr>\n",
       "    <tr>\n",
       "      <th>...</th>\n",
       "      <td>...</td>\n",
       "      <td>...</td>\n",
       "      <td>...</td>\n",
       "    </tr>\n",
       "    <tr>\n",
       "      <th>1378028</th>\n",
       "      <td>0</td>\n",
       "      <td>18891</td>\n",
       "      <td>15745950</td>\n",
       "    </tr>\n",
       "    <tr>\n",
       "      <th>1378029</th>\n",
       "      <td>0</td>\n",
       "      <td>18891</td>\n",
       "      <td>10861195</td>\n",
       "    </tr>\n",
       "    <tr>\n",
       "      <th>1378030</th>\n",
       "      <td>4</td>\n",
       "      <td>18891</td>\n",
       "      <td>6131164</td>\n",
       "    </tr>\n",
       "    <tr>\n",
       "      <th>1378031</th>\n",
       "      <td>4</td>\n",
       "      <td>18891</td>\n",
       "      <td>10025305</td>\n",
       "    </tr>\n",
       "    <tr>\n",
       "      <th>1378032</th>\n",
       "      <td>5</td>\n",
       "      <td>18891</td>\n",
       "      <td>6482837</td>\n",
       "    </tr>\n",
       "  </tbody>\n",
       "</table>\n",
       "<p>1378033 rows × 3 columns</p>\n",
       "</div>"
      ],
      "text/plain": [
       "         rating  user_id   book_id\n",
       "0             5        0  18245960\n",
       "1             3        0     16981\n",
       "2             3        0  28684704\n",
       "3             0        0  27161156\n",
       "4             4        0  25884323\n",
       "...         ...      ...       ...\n",
       "1378028       0    18891  15745950\n",
       "1378029       0    18891  10861195\n",
       "1378030       4    18891   6131164\n",
       "1378031       4    18891  10025305\n",
       "1378032       5    18891   6482837\n",
       "\n",
       "[1378033 rows x 3 columns]"
      ]
     },
     "execution_count": 6,
     "metadata": {},
     "output_type": "execute_result"
    }
   ],
   "source": [
    "user_id_dict = normalize_user_id(data)\n",
    "data['user_id'] = data.user_id.apply(get_normalized_user_id,user_id_dict= user_id_dict)\n",
    "data"
   ]
  },
  {
   "cell_type": "markdown",
   "metadata": {},
   "source": [
    "<a id=\"ref2\"></a>\n",
    "<h3><center>Basic Statistics</center></h3>\n",
    "\n",
    "-------------------"
   ]
  },
  {
   "cell_type": "code",
   "execution_count": 7,
   "metadata": {},
   "outputs": [
    {
     "name": "stdout",
     "output_type": "stream",
     "text": [
      "Mean rating : 3.6850786592193367\n",
      "Mean rating standard deviation: 1.252454993929364\n"
     ]
    }
   ],
   "source": [
    "print(\"Mean rating : {}\".format(data['rating'].mean()))\n",
    "print(\"Mean rating standard deviation: {}\".format(data['rating'].std()))"
   ]
  },
  {
   "cell_type": "code",
   "execution_count": 8,
   "metadata": {},
   "outputs": [
    {
     "data": {
      "text/plain": [
       "Text(0, 0.5, 'count')"
      ]
     },
     "execution_count": 8,
     "metadata": {},
     "output_type": "execute_result"
    },
    {
     "data": {
      "image/png": "[encoded data removed]",
      "text/plain": [
       "<Figure size 432x288 with 1 Axes>"
      ]
     },
     "metadata": {
      "needs_background": "light"
     },
     "output_type": "display_data"
    }
   ],
   "source": [
    "fig = plt.figure(figsize=(6,4))\n",
    "ax  = fig.add_subplot(111)\n",
    "ax.hist(data['rating'], bins=[-0.1,0.1,0.9, 1.1, 1.9, 2.1, 2.9, 3.1, 3.9, 4.1, 4.9, 5.1])\n",
    "ax.set_xlabel('rates', fontsize=13)\n",
    "ax.set_ylabel('count', fontsize=13)\n",
    "#ax.title('Distribution of reviews', fontsize=15)"
   ]
  },
  {
   "cell_type": "code",
   "execution_count": 9,
   "metadata": {},
   "outputs": [
    {
     "name": "stdout",
     "output_type": "stream",
     "text": [
      "Number of users: 18892\n",
      "Number of books : 25475\n",
      "Number of ratings  : 1378033\n"
     ]
    }
   ],
   "source": [
    "num_users = len(data['user_id'].unique())\n",
    "num_items = len(data['book_id'].unique())\n",
    "\n",
    "print(\"Number of users: {}\".format(num_users))\n",
    "print(\"Number of books : {}\".format(num_items))\n",
    "print(\"Number of ratings  : {}\".format(len(data)))"
   ]
  },
  {
   "cell_type": "code",
   "execution_count": 10,
   "metadata": {},
   "outputs": [
    {
     "data": {
      "text/plain": [
       "Text(0, 0.5, 'number of users')"
      ]
     },
     "execution_count": 10,
     "metadata": {},
     "output_type": "execute_result"
    },
    {
     "data": {
      "image/png": "[encoded data removed]",
      "text/plain": [
       "<Figure size 432x288 with 1 Axes>"
      ]
     },
     "metadata": {
      "needs_background": "light"
     },
     "output_type": "display_data"
    }
   ],
   "source": [
    "mean_rating_of_user = data.groupby('user_id').apply(lambda x: x['rating'].mean())\n",
    "\n",
    "fig = plt.figure(figsize=(6,4))\n",
    "ax  = fig.add_subplot(111)\n",
    "ax.hist(mean_rating_of_user)\n",
    "ax.set_xlabel('mean rating given by each user', fontsize=13)\n",
    "ax.set_ylabel('number of users', fontsize=13)"
   ]
  },
  {
   "cell_type": "code",
   "execution_count": 11,
   "metadata": {},
   "outputs": [
    {
     "name": "stdout",
     "output_type": "stream",
     "text": [
      "Avg Number of ratings per user 72.94267414778743\n"
     ]
    }
   ],
   "source": [
    "avg_num_rates = data.groupby('user_id')['book_id'].count()\n",
    "print(\"Avg Number of ratings per user {}\".format(avg_num_rates.mean()))"
   ]
  },
  {
   "cell_type": "code",
   "execution_count": 12,
   "metadata": {},
   "outputs": [],
   "source": [
    "# turn each reviewer and product into categorical data,\n",
    "data['user_id'] = data['user_id'].astype(\"category\")\n",
    "data['book_id']       = data['book_id'].astype(\"category\")"
   ]
  },
  {
   "cell_type": "code",
   "execution_count": 13,
   "metadata": {},
   "outputs": [
    {
     "data": {
      "text/plain": [
       "(18892, 25475)"
      ]
     },
     "execution_count": 13,
     "metadata": {},
     "output_type": "execute_result"
    }
   ],
   "source": [
    "rates = csc_matrix((data['rating'].astype(float), \n",
    "                     (data['user_id'].cat.codes,\n",
    "                      data['book_id'].cat.codes)))\n",
    "rates.shape"
   ]
  },
  {
   "cell_type": "code",
   "execution_count": 14,
   "metadata": {},
   "outputs": [],
   "source": [
    "ratings_matrix = rates.toarray()"
   ]
  },
  {
   "cell_type": "code",
   "execution_count": 15,
   "metadata": {},
   "outputs": [
    {
     "name": "stdout",
     "output_type": "stream",
     "text": [
      "Sparsity: 0.28%\n"
     ]
    }
   ],
   "source": [
    "sparsity = float(len(ratings_matrix.nonzero()[0]))\n",
    "sparsity /= (ratings_matrix.shape[0] * ratings_matrix.shape[1])\n",
    "sparsity *= 100\n",
    "print(\"Sparsity: {:4.2f}%\".format(sparsity))"
   ]
  },
  {
   "cell_type": "code",
   "execution_count": 16,
   "metadata": {},
   "outputs": [
    {
     "data": {
      "text/plain": [
       "3.6850786592193367"
      ]
     },
     "execution_count": 16,
     "metadata": {},
     "output_type": "execute_result"
    }
   ],
   "source": [
    "mean_rating = data['rating'].mean()\n",
    "mean_rating"
   ]
  },
  {
   "cell_type": "markdown",
   "metadata": {},
   "source": [
    "<a id=\"ref3\"></a>\n",
    "<h3><center>Implementation</center></h3>\n",
    "\n",
    "___________________"
   ]
  },
  {
   "cell_type": "markdown",
   "metadata": {},
   "source": [
    "<a id=\"ref4\"></a>\n",
    "<h4><left>BaseLine:</left></h4>"
   ]
  },
  {
   "cell_type": "code",
   "execution_count": 17,
   "metadata": {},
   "outputs": [
    {
     "name": "stdout",
     "output_type": "stream",
     "text": [
      "RMSE = 1.252454539493505\n"
     ]
    }
   ],
   "source": [
    "base_rmse = np.sqrt(pow(data['rating']-mean_rating, 2).mean())\n",
    "print(\"RMSE = {}\".format(base_rmse))"
   ]
  },
  {
   "cell_type": "markdown",
   "metadata": {},
   "source": [
    "<a id=\"ref5\"></a>\n",
    "<h4><left>User-User Collaborative:</left></h4>"
   ]
  },
  {
   "cell_type": "code",
   "execution_count": 18,
   "metadata": {},
   "outputs": [],
   "source": [
    "from sklearn.metrics.pairwise import cosine_similarity\n",
    "\n",
    "def User_User_CF(rates):  \n",
    "    # Get the user-user similarity matrix\n",
    "    user_user_similarity = cosine_similarity(rates)\n",
    "    \n",
    "    sqdiffs = 0\n",
    "    num_preds = 0\n",
    "\n",
    "    # to protect against divide by zero issues\n",
    "    eps = 1e-6\n",
    "\n",
    "    cnt_no_sims = 0\n",
    "    # loop over the users\n",
    "    for user_i, u in enumerate(rates):\n",
    "        \n",
    "        # products user HAS rated\n",
    "        i_rated = np.where(u>0)[0]\n",
    "    \n",
    "        # Get the average rating for this user\n",
    "        user_avg =  i_rated.mean()\n",
    "        \n",
    "        # loop over all the products that each user reviewed\n",
    "        # Note: these are all the non-zero entries in the row\n",
    "        for i_product in i_rated:\n",
    "        \n",
    "            # Get all the users (indices) that\n",
    "            # have also reviewed this product.\n",
    "            # Note: This also includes the user of interest!\n",
    "            i_has_rated = np.where(rates[:, i_product])[0]\n",
    "        \n",
    "            # remove the user (indices) of interest \n",
    "            # from this column\n",
    "            i_remove = np.argmin(abs(i_has_rated - user_i))\n",
    "            i_others_have_rated = np.delete(i_has_rated, i_remove)\n",
    "        \n",
    "            # Get the ratings for product by the similar users,\n",
    "            ratings = rates[i_others_have_rated, \n",
    "                              i_product]\n",
    "                    \n",
    "            ratings -= user_avg\n",
    "               \n",
    "            # get the cosine similarity between the users\n",
    "            # and other users.\n",
    "            similarities = user_user_similarity[user_i,\n",
    "                                                i_others_have_rated]\n",
    "            \n",
    "            # denominator of user_i's produdct prediction\n",
    "            norm = np.sum(similarities)\n",
    "            if norm==0:\n",
    "                cnt_no_sims += 1\n",
    "                norm = eps\n",
    "            \n",
    "            # prediction of user u on product i: p_{u,i}\n",
    "            predicted_rating = user_avg + np.sum(np.multiply(\n",
    "                                            ratings.T,\n",
    "                                            similarities))/norm\n",
    "            \n",
    "            # actual rating by user u on product i\n",
    "            actual_rating = rates[user_i, i_product]\n",
    "            \n",
    "        # get the L2 difference in predicted and actual\n",
    "        # rating for the user\n",
    "        sqdiffs += pow(predicted_rating - actual_rating, 2.0)\n",
    "        num_preds+=1\n",
    "    \n",
    "    # get the average of all the predictions\n",
    "    rmse_cossim = np.sqrt(sqdiffs/num_preds)\n",
    "    return rmse_cossim"
   ]
  },
  {
   "cell_type": "markdown",
   "metadata": {},
   "source": [
    "<a id=\"ref6\"></a>\n",
    "<h3><left>Results:</left></h3>"
   ]
  },
  {
   "cell_type": "code",
   "execution_count": 19,
   "metadata": {
    "scrolled": true
   },
   "outputs": [
    {
     "name": "stderr",
     "output_type": "stream",
     "text": [
      "E:\\Applications\\Anaconda\\lib\\site-packages\\ipykernel_launcher.py:21: RuntimeWarning: Mean of empty slice.\n",
      "E:\\Applications\\Anaconda\\lib\\site-packages\\numpy\\core\\_methods.py:161: RuntimeWarning: invalid value encountered in double_scalars\n",
      "  ret = ret.dtype.type(ret / rcount)\n"
     ]
    },
    {
     "name": "stdout",
     "output_type": "stream",
     "text": [
      "1.0441692856062417\n"
     ]
    }
   ],
   "source": [
    "user_all_rmse = User_User_CF(ratings_matrix)\n",
    "print(user_all_rmse)"
   ]
  },
  {
   "cell_type": "markdown",
   "metadata": {},
   "source": [
    "<h3><center>..The End..</center></h3>"
   ]
  }
 ],
 "metadata": {
  "kernelspec": {
   "display_name": "Python 3",
   "language": "python",
   "name": "python3"
  },
  "language_info": {
   "codemirror_mode": {
    "name": "ipython",
    "version": 3
   },
   "file_extension": ".py",
   "mimetype": "text/x-python",
   "name": "python",
   "nbconvert_exporter": "python",
   "pygments_lexer": "ipython3",
   "version": "3.7.6"
  }
 },
 "nbformat": 4,
 "nbformat_minor": 4
}
